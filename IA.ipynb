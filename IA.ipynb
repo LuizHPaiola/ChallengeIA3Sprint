{
 "cells": [
  {
   "cell_type": "code",
   "execution_count": 2,
   "metadata": {},
   "outputs": [
    {
     "name": "stdout",
     "output_type": "stream",
     "text": [
      "    busto  cintura  quadril  altura  ombro medida correta\n",
      "0   96.99    77.01   104.55  161.13  32.82              M\n",
      "1   75.22    57.54    85.18  178.72  31.21             PP\n",
      "2   86.43    68.18    92.93  169.91  31.57              P\n",
      "3   99.62    77.19   103.50  151.75  31.92              M\n",
      "4  119.37   100.52   125.48  153.00  35.33             GG\n"
     ]
    }
   ],
   "source": [
    "import pandas as pd\n",
    "import random\n",
    "\n",
    "# Faixas de valores para cada tamanho de medida\n",
    "faixas = {\n",
    "    'PP': {'busto': (74, 80), 'cintura': (55, 61), 'quadril': (80, 86)},\n",
    "    'P': {'busto': (84, 90), 'cintura': (65, 71), 'quadril': (90, 96)},\n",
    "    'M': {'busto': (94, 100), 'cintura': (75, 81), 'quadril': (100, 106)},\n",
    "    'G': {'busto': (104, 110), 'cintura': (85, 91), 'quadril': (110, 116)},\n",
    "    'GG': {'busto': (114, 120), 'cintura': (95, 101), 'quadril': (120, 126)}\n",
    "}\n",
    "\n",
    "# Lista vazia para armazenar os dados\n",
    "dados = []\n",
    "\n",
    "# Gerar dados aleatórios para o dataset\n",
    "for _ in range(10000):  # Vamos criar 100 entradas de exemplo\n",
    "    medida_correta = random.choice(['PP', 'P', 'M', 'G', 'GG'])\n",
    "    busto_min, busto_max = faixas[medida_correta]['busto']\n",
    "    cintura_min, cintura_max = faixas[medida_correta]['cintura']\n",
    "    quadril_min, quadril_max = faixas[medida_correta]['quadril']\n",
    "    busto = round(random.uniform(busto_min, busto_max), 2)\n",
    "    cintura = round(random.uniform(cintura_min, cintura_max), 2)\n",
    "    quadril = round(random.uniform(quadril_min, quadril_max), 2)\n",
    "    altura = round(random.uniform(150, 180), 2)  # Altura aleatória entre 150 e 180 cm\n",
    "    ombro = round(random.uniform(30, 40), 2)   # Medida de ombro aleatória entre 30 e 40 cm\n",
    "    dados.append([busto, cintura, quadril, altura, ombro, medida_correta])\n",
    "\n",
    "# Criar o dataframe\n",
    "df = pd.DataFrame(dados, columns=['busto', 'cintura', 'quadril', 'altura', 'ombro', 'medida correta'])\n",
    "\n",
    "# Exibir as primeiras linhas do dataframe\n",
    "print(df.head())\n",
    "\n",
    "# Salvar o dataframe em um arquivo CSV (opcional)\n",
    "df.to_csv('dataset_medidas.csv', index=False)"
   ]
  },
  {
   "cell_type": "code",
   "execution_count": 7,
   "metadata": {},
   "outputs": [
    {
     "name": "stdout",
     "output_type": "stream",
     "text": [
      "Acurácia do modelo no conjunto de teste: 86.90%\n",
      "Medida correta prevista para os novos dados: P\n"
     ]
    },
    {
     "name": "stderr",
     "output_type": "stream",
     "text": [
      "c:\\Users\\Luiz\\anaconda3\\lib\\site-packages\\sklearn\\base.py:420: UserWarning: X does not have valid feature names, but MLPClassifier was fitted with feature names\n",
      "  warnings.warn(\n"
     ]
    }
   ],
   "source": [
    "import pandas as pd\n",
    "from sklearn.model_selection import train_test_split\n",
    "from sklearn.neural_network import MLPClassifier\n",
    "from sklearn.preprocessing import LabelEncoder\n",
    "from sklearn.metrics import accuracy_score\n",
    "\n",
    "df = pd.read_csv('dataset_medidas.csv')\n",
    "\n",
    "X = df[['busto', 'cintura', 'quadril', 'altura', 'ombro']]\n",
    "y = df['medida correta']\n",
    "\n",
    "encoder = LabelEncoder()\n",
    "y_ajustado = encoder.fit_transform(y)\n",
    "\n",
    "X_train, X_test, y_train, y_test = train_test_split(X, y_ajustado, test_size=0.2, random_state=42)\n",
    "\n",
    "model = MLPClassifier(hidden_layer_sizes=(64, 32), activation='relu', max_iter=1000, random_state=42)\n",
    "\n",
    "model.fit(X_train, y_train)\n",
    "\n",
    "y_pred = model.predict(X_test)\n",
    "\n",
    "acuracia = accuracy_score(y_test, y_pred)\n",
    "print(f'Acurácia do modelo no conjunto de teste: {acuracia * 100:.2f}%')\n",
    "\n",
    "#Por enquanto vou utilizar esses dados pré-setados, mas no futuro planejamos usar uma API para que o APP em python consiga receber as informações\n",
    "novos_dados = [[95.0, 70.0, 98.0, 165.0, 35.0]] \n",
    "predicao = encoder.inverse_transform(model.predict(novos_dados))\n",
    "print(f'Medida correta prevista para os novos dados: {predicao[0]}')"
   ]
  }
 ],
 "metadata": {
  "kernelspec": {
   "display_name": "base",
   "language": "python",
   "name": "python3"
  },
  "language_info": {
   "codemirror_mode": {
    "name": "ipython",
    "version": 3
   },
   "file_extension": ".py",
   "mimetype": "text/x-python",
   "name": "python",
   "nbconvert_exporter": "python",
   "pygments_lexer": "ipython3",
   "version": "3.10.9"
  },
  "orig_nbformat": 4
 },
 "nbformat": 4,
 "nbformat_minor": 2
}
